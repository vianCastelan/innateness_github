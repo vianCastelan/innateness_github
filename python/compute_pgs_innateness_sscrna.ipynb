{
 "cells": [
  {
   "cell_type": "code",
   "execution_count": 49,
   "metadata": {},
   "outputs": [],
   "source": [
    "import pandas as pd \n",
    "import os \n",
    "import matplotlib.pyplot as plt\n",
    "import seaborn as sns"
   ]
  },
  {
   "cell_type": "code",
   "execution_count": 50,
   "metadata": {},
   "outputs": [
    {
     "name": "stdout",
     "output_type": "stream",
     "text": [
      "/Users/angelinechen/Documents/bilate_analysis\r\n"
     ]
    }
   ],
   "source": [
    "! pwd "
   ]
  },
  {
   "cell_type": "code",
   "execution_count": 51,
   "metadata": {},
   "outputs": [
    {
     "name": "stdout",
     "output_type": "stream",
     "text": [
      "total 20744\r\n",
      "-rw-r--r--@ 1 angelinechen  staff   8.9K Oct 12 10:42 barcodes.tsv\r\n",
      "-rw-r--r--@ 1 angelinechen  staff   1.3M Oct 12 10:54 genes.tsv\r\n",
      "-rw-r--r--@ 1 angelinechen  staff   8.9M Oct 12 10:41 matrix.mtx\r\n"
     ]
    }
   ],
   "source": [
    "! ls -lh /Users/angelinechen/Desktop/GSE157453/GSM4766479_neg"
   ]
  },
  {
   "cell_type": "code",
   "execution_count": null,
   "metadata": {},
   "outputs": [],
   "source": []
  },
  {
   "cell_type": "code",
   "execution_count": 52,
   "metadata": {},
   "outputs": [],
   "source": [
    "fn = '/Users/angelinechen/Desktop/GSE157453/ie_combined.csv'\n",
    "ie_combined = pd.read_csv(fn, index_col = 0)"
   ]
  },
  {
   "cell_type": "code",
   "execution_count": 53,
   "metadata": {},
   "outputs": [],
   "source": [
    "fn = '/Users/angelinechen/Desktop/GSE157453/innateness_beta_mod_2020-10-09_16-19-PM.tsv'\n",
    "innate = pd.read_table(fn, index_col = 0)"
   ]
  },
  {
   "cell_type": "code",
   "execution_count": 55,
   "metadata": {},
   "outputs": [],
   "source": [
    "fn = '/Users/angelinechen/Desktop/GSE157453/GSE157453_RNA.Meta.filtered.csv'\n",
    "meta = pd.read_csv(fn)"
   ]
  },
  {
   "cell_type": "code",
   "execution_count": null,
   "metadata": {},
   "outputs": [],
   "source": []
  },
  {
   "cell_type": "code",
   "execution_count": 56,
   "metadata": {},
   "outputs": [
    {
     "data": {
      "text/plain": [
       "(1513, 3)"
      ]
     },
     "execution_count": 56,
     "metadata": {},
     "output_type": "execute_result"
    }
   ],
   "source": [
    "ie_combined.shape"
   ]
  },
  {
   "cell_type": "code",
   "execution_count": 57,
   "metadata": {},
   "outputs": [],
   "source": [
    "# gene expression matrix generated through Rstudio (Seurat)\n",
    "fn = '/Users/angelinechen/Desktop/GSE157453/iel_neg_matrix.csv'\n",
    "iel_neg = pd.read_csv(fn, index_col = 0)"
   ]
  },
  {
   "cell_type": "code",
   "execution_count": 58,
   "metadata": {},
   "outputs": [],
   "source": [
    "fn = '/Users/angelinechen/Desktop/GSE157453/iel_pos_matrix.csv'\n",
    "iel_pos = pd.read_csv(fn, index_col = 0)"
   ]
  },
  {
   "cell_type": "code",
   "execution_count": 59,
   "metadata": {},
   "outputs": [
    {
     "data": {
      "text/html": [
       "<div>\n",
       "<style scoped>\n",
       "    .dataframe tbody tr th:only-of-type {\n",
       "        vertical-align: middle;\n",
       "    }\n",
       "\n",
       "    .dataframe tbody tr th {\n",
       "        vertical-align: top;\n",
       "    }\n",
       "\n",
       "    .dataframe thead th {\n",
       "        text-align: right;\n",
       "    }\n",
       "</style>\n",
       "<table border=\"1\" class=\"dataframe\">\n",
       "  <thead>\n",
       "    <tr style=\"text-align: right;\">\n",
       "      <th></th>\n",
       "      <th>AAACGGGCATCAGTCA</th>\n",
       "      <th>AAACGGGGTGTCCTCT</th>\n",
       "      <th>AAACGGGGTTCGTTGA</th>\n",
       "      <th>AAAGATGGTTCAACCA</th>\n",
       "      <th>AAATGCCAGCCACCTG</th>\n",
       "      <th>AAATGCCCATCGACGC</th>\n",
       "      <th>AACACGTCACTACAGT</th>\n",
       "      <th>AACCGCGTCAGCTCTC</th>\n",
       "      <th>AACGTTGTCGCGGATC</th>\n",
       "      <th>AACTCTTCAAACCCAT</th>\n",
       "      <th>...</th>\n",
       "      <th>TTCTACAGTCTACCTC</th>\n",
       "      <th>TTCTCAATCGAATGCT</th>\n",
       "      <th>TTCTTAGGTTACGCGC</th>\n",
       "      <th>TTGACTTAGTCTTGCA</th>\n",
       "      <th>TTGGCAAGTGCCTGGT</th>\n",
       "      <th>TTGGCAATCGACAGCC</th>\n",
       "      <th>TTGTAGGGTTGCTCCT</th>\n",
       "      <th>TTTCCTCAGTTCGATC</th>\n",
       "      <th>TTTGCGCCACGAAAGC</th>\n",
       "      <th>TTTGGTTCATCACAAC</th>\n",
       "    </tr>\n",
       "  </thead>\n",
       "  <tbody>\n",
       "    <tr>\n",
       "      <td>Xkr4</td>\n",
       "      <td>0.0</td>\n",
       "      <td>0.0</td>\n",
       "      <td>0.0</td>\n",
       "      <td>0.0</td>\n",
       "      <td>0.0</td>\n",
       "      <td>0.0</td>\n",
       "      <td>0.0</td>\n",
       "      <td>0.0</td>\n",
       "      <td>0.0</td>\n",
       "      <td>0.0</td>\n",
       "      <td>...</td>\n",
       "      <td>0.0</td>\n",
       "      <td>0.0</td>\n",
       "      <td>0.0</td>\n",
       "      <td>0.0</td>\n",
       "      <td>0.0</td>\n",
       "      <td>0.0</td>\n",
       "      <td>0.0</td>\n",
       "      <td>0.0</td>\n",
       "      <td>0.0</td>\n",
       "      <td>0.0</td>\n",
       "    </tr>\n",
       "    <tr>\n",
       "      <td>Gm1992</td>\n",
       "      <td>0.0</td>\n",
       "      <td>0.0</td>\n",
       "      <td>0.0</td>\n",
       "      <td>0.0</td>\n",
       "      <td>0.0</td>\n",
       "      <td>0.0</td>\n",
       "      <td>0.0</td>\n",
       "      <td>0.0</td>\n",
       "      <td>0.0</td>\n",
       "      <td>0.0</td>\n",
       "      <td>...</td>\n",
       "      <td>0.0</td>\n",
       "      <td>0.0</td>\n",
       "      <td>0.0</td>\n",
       "      <td>0.0</td>\n",
       "      <td>0.0</td>\n",
       "      <td>0.0</td>\n",
       "      <td>0.0</td>\n",
       "      <td>0.0</td>\n",
       "      <td>0.0</td>\n",
       "      <td>0.0</td>\n",
       "    </tr>\n",
       "    <tr>\n",
       "      <td>Gm37381</td>\n",
       "      <td>0.0</td>\n",
       "      <td>0.0</td>\n",
       "      <td>0.0</td>\n",
       "      <td>0.0</td>\n",
       "      <td>0.0</td>\n",
       "      <td>0.0</td>\n",
       "      <td>0.0</td>\n",
       "      <td>0.0</td>\n",
       "      <td>0.0</td>\n",
       "      <td>0.0</td>\n",
       "      <td>...</td>\n",
       "      <td>0.0</td>\n",
       "      <td>0.0</td>\n",
       "      <td>0.0</td>\n",
       "      <td>0.0</td>\n",
       "      <td>0.0</td>\n",
       "      <td>0.0</td>\n",
       "      <td>0.0</td>\n",
       "      <td>0.0</td>\n",
       "      <td>0.0</td>\n",
       "      <td>0.0</td>\n",
       "    </tr>\n",
       "    <tr>\n",
       "      <td>Rp1</td>\n",
       "      <td>0.0</td>\n",
       "      <td>0.0</td>\n",
       "      <td>0.0</td>\n",
       "      <td>0.0</td>\n",
       "      <td>0.0</td>\n",
       "      <td>0.0</td>\n",
       "      <td>0.0</td>\n",
       "      <td>0.0</td>\n",
       "      <td>0.0</td>\n",
       "      <td>0.0</td>\n",
       "      <td>...</td>\n",
       "      <td>0.0</td>\n",
       "      <td>0.0</td>\n",
       "      <td>0.0</td>\n",
       "      <td>0.0</td>\n",
       "      <td>0.0</td>\n",
       "      <td>0.0</td>\n",
       "      <td>0.0</td>\n",
       "      <td>0.0</td>\n",
       "      <td>0.0</td>\n",
       "      <td>0.0</td>\n",
       "    </tr>\n",
       "    <tr>\n",
       "      <td>Sox17</td>\n",
       "      <td>0.0</td>\n",
       "      <td>0.0</td>\n",
       "      <td>0.0</td>\n",
       "      <td>0.0</td>\n",
       "      <td>0.0</td>\n",
       "      <td>0.0</td>\n",
       "      <td>0.0</td>\n",
       "      <td>0.0</td>\n",
       "      <td>0.0</td>\n",
       "      <td>0.0</td>\n",
       "      <td>...</td>\n",
       "      <td>0.0</td>\n",
       "      <td>0.0</td>\n",
       "      <td>0.0</td>\n",
       "      <td>0.0</td>\n",
       "      <td>0.0</td>\n",
       "      <td>0.0</td>\n",
       "      <td>0.0</td>\n",
       "      <td>0.0</td>\n",
       "      <td>0.0</td>\n",
       "      <td>0.0</td>\n",
       "    </tr>\n",
       "  </tbody>\n",
       "</table>\n",
       "<p>5 rows × 478 columns</p>\n",
       "</div>"
      ],
      "text/plain": [
       "         AAACGGGCATCAGTCA  AAACGGGGTGTCCTCT  AAACGGGGTTCGTTGA  \\\n",
       "Xkr4                  0.0               0.0               0.0   \n",
       "Gm1992                0.0               0.0               0.0   \n",
       "Gm37381               0.0               0.0               0.0   \n",
       "Rp1                   0.0               0.0               0.0   \n",
       "Sox17                 0.0               0.0               0.0   \n",
       "\n",
       "         AAAGATGGTTCAACCA  AAATGCCAGCCACCTG  AAATGCCCATCGACGC  \\\n",
       "Xkr4                  0.0               0.0               0.0   \n",
       "Gm1992                0.0               0.0               0.0   \n",
       "Gm37381               0.0               0.0               0.0   \n",
       "Rp1                   0.0               0.0               0.0   \n",
       "Sox17                 0.0               0.0               0.0   \n",
       "\n",
       "         AACACGTCACTACAGT  AACCGCGTCAGCTCTC  AACGTTGTCGCGGATC  \\\n",
       "Xkr4                  0.0               0.0               0.0   \n",
       "Gm1992                0.0               0.0               0.0   \n",
       "Gm37381               0.0               0.0               0.0   \n",
       "Rp1                   0.0               0.0               0.0   \n",
       "Sox17                 0.0               0.0               0.0   \n",
       "\n",
       "         AACTCTTCAAACCCAT  ...  TTCTACAGTCTACCTC  TTCTCAATCGAATGCT  \\\n",
       "Xkr4                  0.0  ...               0.0               0.0   \n",
       "Gm1992                0.0  ...               0.0               0.0   \n",
       "Gm37381               0.0  ...               0.0               0.0   \n",
       "Rp1                   0.0  ...               0.0               0.0   \n",
       "Sox17                 0.0  ...               0.0               0.0   \n",
       "\n",
       "         TTCTTAGGTTACGCGC  TTGACTTAGTCTTGCA  TTGGCAAGTGCCTGGT  \\\n",
       "Xkr4                  0.0               0.0               0.0   \n",
       "Gm1992                0.0               0.0               0.0   \n",
       "Gm37381               0.0               0.0               0.0   \n",
       "Rp1                   0.0               0.0               0.0   \n",
       "Sox17                 0.0               0.0               0.0   \n",
       "\n",
       "         TTGGCAATCGACAGCC  TTGTAGGGTTGCTCCT  TTTCCTCAGTTCGATC  \\\n",
       "Xkr4                  0.0               0.0               0.0   \n",
       "Gm1992                0.0               0.0               0.0   \n",
       "Gm37381               0.0               0.0               0.0   \n",
       "Rp1                   0.0               0.0               0.0   \n",
       "Sox17                 0.0               0.0               0.0   \n",
       "\n",
       "         TTTGCGCCACGAAAGC  TTTGGTTCATCACAAC  \n",
       "Xkr4                  0.0               0.0  \n",
       "Gm1992                0.0               0.0  \n",
       "Gm37381               0.0               0.0  \n",
       "Rp1                   0.0               0.0  \n",
       "Sox17                 0.0               0.0  \n",
       "\n",
       "[5 rows x 478 columns]"
      ]
     },
     "execution_count": 59,
     "metadata": {},
     "output_type": "execute_result"
    }
   ],
   "source": [
    "iel_neg.head()"
   ]
  },
  {
   "cell_type": "code",
   "execution_count": 60,
   "metadata": {},
   "outputs": [
    {
     "data": {
      "text/plain": [
       "<matplotlib.axes._subplots.AxesSubplot at 0x1a1f4bd650>"
      ]
     },
     "execution_count": 60,
     "metadata": {},
     "output_type": "execute_result"
    },
    {
     "data": {
      "image/png": "[encoded data removed]",
      "text/plain": [
       "<Figure size 432x288 with 1 Axes>"
      ]
     },
     "metadata": {
      "needs_background": "light"
     },
     "output_type": "display_data"
    }
   ],
   "source": [
    "iel_neg['AAACGGGCATCAGTCA'].hist(bins = 20)"
   ]
  },
  {
   "cell_type": "code",
   "execution_count": null,
   "metadata": {},
   "outputs": [],
   "source": []
  },
  {
   "cell_type": "code",
   "execution_count": 61,
   "metadata": {},
   "outputs": [
    {
     "data": {
      "text/html": [
       "<div>\n",
       "<style scoped>\n",
       "    .dataframe tbody tr th:only-of-type {\n",
       "        vertical-align: middle;\n",
       "    }\n",
       "\n",
       "    .dataframe tbody tr th {\n",
       "        vertical-align: top;\n",
       "    }\n",
       "\n",
       "    .dataframe thead th {\n",
       "        text-align: right;\n",
       "    }\n",
       "</style>\n",
       "<table border=\"1\" class=\"dataframe\">\n",
       "  <thead>\n",
       "    <tr style=\"text-align: right;\">\n",
       "      <th></th>\n",
       "      <th>GENE_NAME</th>\n",
       "      <th>GENE_TYPE</th>\n",
       "      <th>InnatenessLevel_(Beta)</th>\n",
       "      <th>StdErr</th>\n",
       "      <th>Tvalue</th>\n",
       "      <th>Chisq</th>\n",
       "      <th>Pvalue</th>\n",
       "      <th>CalledSignificant</th>\n",
       "      <th>Chromosome.scaffold.name</th>\n",
       "      <th>MGI.symbol</th>\n",
       "      <th>Chromosome.scaffold.name.1</th>\n",
       "      <th>Gene.start..bp.</th>\n",
       "      <th>Gene.end..bp.</th>\n",
       "    </tr>\n",
       "  </thead>\n",
       "  <tbody>\n",
       "    <tr>\n",
       "      <td>1</td>\n",
       "      <td>A1BG</td>\n",
       "      <td>protein_coding</td>\n",
       "      <td>-0.077074</td>\n",
       "      <td>0.019198</td>\n",
       "      <td>-4.014701</td>\n",
       "      <td>14.659422</td>\n",
       "      <td>0.000129</td>\n",
       "      <td>0</td>\n",
       "      <td>19</td>\n",
       "      <td>A1bg</td>\n",
       "      <td>15</td>\n",
       "      <td>60896859</td>\n",
       "      <td>60923012</td>\n",
       "    </tr>\n",
       "    <tr>\n",
       "      <td>2</td>\n",
       "      <td>A2M</td>\n",
       "      <td>protein_coding</td>\n",
       "      <td>0.304455</td>\n",
       "      <td>0.058876</td>\n",
       "      <td>5.171165</td>\n",
       "      <td>23.032006</td>\n",
       "      <td>0.000002</td>\n",
       "      <td>1</td>\n",
       "      <td>12</td>\n",
       "      <td>A2m</td>\n",
       "      <td>6</td>\n",
       "      <td>121635376</td>\n",
       "      <td>121679227</td>\n",
       "    </tr>\n",
       "    <tr>\n",
       "      <td>3</td>\n",
       "      <td>AAAS</td>\n",
       "      <td>protein_coding</td>\n",
       "      <td>-0.014435</td>\n",
       "      <td>0.021082</td>\n",
       "      <td>-0.684686</td>\n",
       "      <td>0.467387</td>\n",
       "      <td>0.494192</td>\n",
       "      <td>0</td>\n",
       "      <td>12</td>\n",
       "      <td>Aaas</td>\n",
       "      <td>15</td>\n",
       "      <td>102338252</td>\n",
       "      <td>102350771</td>\n",
       "    </tr>\n",
       "    <tr>\n",
       "      <td>4</td>\n",
       "      <td>AACS</td>\n",
       "      <td>protein_coding</td>\n",
       "      <td>-0.023681</td>\n",
       "      <td>0.011743</td>\n",
       "      <td>-2.016656</td>\n",
       "      <td>3.965678</td>\n",
       "      <td>0.046437</td>\n",
       "      <td>0</td>\n",
       "      <td>12</td>\n",
       "      <td>Aacs</td>\n",
       "      <td>5</td>\n",
       "      <td>125475814</td>\n",
       "      <td>125517410</td>\n",
       "    </tr>\n",
       "    <tr>\n",
       "      <td>5</td>\n",
       "      <td>AAGAB</td>\n",
       "      <td>protein_coding</td>\n",
       "      <td>0.074179</td>\n",
       "      <td>0.018596</td>\n",
       "      <td>3.988920</td>\n",
       "      <td>14.342422</td>\n",
       "      <td>0.000152</td>\n",
       "      <td>0</td>\n",
       "      <td>15</td>\n",
       "      <td>Aagab</td>\n",
       "      <td>9</td>\n",
       "      <td>63602660</td>\n",
       "      <td>63644588</td>\n",
       "    </tr>\n",
       "  </tbody>\n",
       "</table>\n",
       "</div>"
      ],
      "text/plain": [
       "  GENE_NAME       GENE_TYPE  InnatenessLevel_(Beta)    StdErr    Tvalue  \\\n",
       "1      A1BG  protein_coding               -0.077074  0.019198 -4.014701   \n",
       "2       A2M  protein_coding                0.304455  0.058876  5.171165   \n",
       "3      AAAS  protein_coding               -0.014435  0.021082 -0.684686   \n",
       "4      AACS  protein_coding               -0.023681  0.011743 -2.016656   \n",
       "5     AAGAB  protein_coding                0.074179  0.018596  3.988920   \n",
       "\n",
       "       Chisq    Pvalue  CalledSignificant Chromosome.scaffold.name MGI.symbol  \\\n",
       "1  14.659422  0.000129                  0                       19       A1bg   \n",
       "2  23.032006  0.000002                  1                       12        A2m   \n",
       "3   0.467387  0.494192                  0                       12       Aaas   \n",
       "4   3.965678  0.046437                  0                       12       Aacs   \n",
       "5  14.342422  0.000152                  0                       15      Aagab   \n",
       "\n",
       "  Chromosome.scaffold.name.1  Gene.start..bp.  Gene.end..bp.  \n",
       "1                         15         60896859       60923012  \n",
       "2                          6        121635376      121679227  \n",
       "3                         15        102338252      102350771  \n",
       "4                          5        125475814      125517410  \n",
       "5                          9         63602660       63644588  "
      ]
     },
     "execution_count": 61,
     "metadata": {},
     "output_type": "execute_result"
    }
   ],
   "source": [
    "innate.head()"
   ]
  },
  {
   "cell_type": "code",
   "execution_count": 62,
   "metadata": {},
   "outputs": [],
   "source": [
    "vc = innate['MGI.symbol'].value_counts()\n"
   ]
  },
  {
   "cell_type": "code",
   "execution_count": 63,
   "metadata": {},
   "outputs": [
    {
     "data": {
      "text/plain": [
       "(259,)"
      ]
     },
     "execution_count": 63,
     "metadata": {},
     "output_type": "execute_result"
    }
   ],
   "source": [
    "vc[vc > 1].shape"
   ]
  },
  {
   "cell_type": "code",
   "execution_count": 64,
   "metadata": {},
   "outputs": [
    {
     "data": {
      "text/plain": [
       "(12592, 13)"
      ]
     },
     "execution_count": 64,
     "metadata": {},
     "output_type": "execute_result"
    }
   ],
   "source": [
    "innate.shape"
   ]
  },
  {
   "cell_type": "code",
   "execution_count": 65,
   "metadata": {},
   "outputs": [],
   "source": [
    "innate_filt = innate[innate['MGI.symbol'].isin(vc[vc ==1].index.tolist())]"
   ]
  },
  {
   "cell_type": "code",
   "execution_count": 66,
   "metadata": {},
   "outputs": [
    {
     "data": {
      "text/plain": [
       "(11827, 13)"
      ]
     },
     "execution_count": 66,
     "metadata": {},
     "output_type": "execute_result"
    }
   ],
   "source": [
    "innate_filt.shape"
   ]
  },
  {
   "cell_type": "code",
   "execution_count": 67,
   "metadata": {},
   "outputs": [],
   "source": [
    "tdf = innate_filt.set_index(\"MGI.symbol\")[['InnatenessLevel_(Beta)']]"
   ]
  },
  {
   "cell_type": "code",
   "execution_count": 68,
   "metadata": {},
   "outputs": [
    {
     "data": {
      "text/html": [
       "<div>\n",
       "<style scoped>\n",
       "    .dataframe tbody tr th:only-of-type {\n",
       "        vertical-align: middle;\n",
       "    }\n",
       "\n",
       "    .dataframe tbody tr th {\n",
       "        vertical-align: top;\n",
       "    }\n",
       "\n",
       "    .dataframe thead th {\n",
       "        text-align: right;\n",
       "    }\n",
       "</style>\n",
       "<table border=\"1\" class=\"dataframe\">\n",
       "  <thead>\n",
       "    <tr style=\"text-align: right;\">\n",
       "      <th></th>\n",
       "      <th>InnatenessLevel_(Beta)</th>\n",
       "    </tr>\n",
       "    <tr>\n",
       "      <th>MGI.symbol</th>\n",
       "      <th></th>\n",
       "    </tr>\n",
       "  </thead>\n",
       "  <tbody>\n",
       "    <tr>\n",
       "      <td>A1bg</td>\n",
       "      <td>-0.077074</td>\n",
       "    </tr>\n",
       "    <tr>\n",
       "      <td>A2m</td>\n",
       "      <td>0.304455</td>\n",
       "    </tr>\n",
       "    <tr>\n",
       "      <td>Aaas</td>\n",
       "      <td>-0.014435</td>\n",
       "    </tr>\n",
       "    <tr>\n",
       "      <td>Aacs</td>\n",
       "      <td>-0.023681</td>\n",
       "    </tr>\n",
       "    <tr>\n",
       "      <td>Aagab</td>\n",
       "      <td>0.074179</td>\n",
       "    </tr>\n",
       "  </tbody>\n",
       "</table>\n",
       "</div>"
      ],
      "text/plain": [
       "            InnatenessLevel_(Beta)\n",
       "MGI.symbol                        \n",
       "A1bg                     -0.077074\n",
       "A2m                       0.304455\n",
       "Aaas                     -0.014435\n",
       "Aacs                     -0.023681\n",
       "Aagab                     0.074179"
      ]
     },
     "execution_count": 68,
     "metadata": {},
     "output_type": "execute_result"
    }
   ],
   "source": [
    "tdf.head()"
   ]
  },
  {
   "cell_type": "code",
   "execution_count": 69,
   "metadata": {},
   "outputs": [],
   "source": [
    "iel_neg_filt = iel_neg[iel_neg.index.isin(tdf.index.tolist())]"
   ]
  },
  {
   "cell_type": "code",
   "execution_count": 70,
   "metadata": {},
   "outputs": [],
   "source": [
    "iel_pos_filt = iel_pos[iel_pos.index.isin(tdf.index.tolist())]"
   ]
  },
  {
   "cell_type": "code",
   "execution_count": 71,
   "metadata": {},
   "outputs": [
    {
     "data": {
      "text/plain": [
       "(11747, 478)"
      ]
     },
     "execution_count": 71,
     "metadata": {},
     "output_type": "execute_result"
    }
   ],
   "source": [
    "iel_neg_filt.shape"
   ]
  },
  {
   "cell_type": "code",
   "execution_count": 72,
   "metadata": {},
   "outputs": [],
   "source": [
    "iel_neg_filt = iel_neg_filt.join(tdf, how = 'left')"
   ]
  },
  {
   "cell_type": "code",
   "execution_count": 73,
   "metadata": {},
   "outputs": [],
   "source": [
    "iel_pos_filt = iel_pos_filt.join(tdf, how = 'left')"
   ]
  },
  {
   "cell_type": "code",
   "execution_count": 74,
   "metadata": {},
   "outputs": [
    {
     "data": {
      "text/html": [
       "<div>\n",
       "<style scoped>\n",
       "    .dataframe tbody tr th:only-of-type {\n",
       "        vertical-align: middle;\n",
       "    }\n",
       "\n",
       "    .dataframe tbody tr th {\n",
       "        vertical-align: top;\n",
       "    }\n",
       "\n",
       "    .dataframe thead th {\n",
       "        text-align: right;\n",
       "    }\n",
       "</style>\n",
       "<table border=\"1\" class=\"dataframe\">\n",
       "  <thead>\n",
       "    <tr style=\"text-align: right;\">\n",
       "      <th></th>\n",
       "      <th>AAACGGGCATCAGTCA</th>\n",
       "      <th>AAACGGGGTGTCCTCT</th>\n",
       "      <th>AAACGGGGTTCGTTGA</th>\n",
       "      <th>AAAGATGGTTCAACCA</th>\n",
       "      <th>AAATGCCAGCCACCTG</th>\n",
       "      <th>AAATGCCCATCGACGC</th>\n",
       "      <th>AACACGTCACTACAGT</th>\n",
       "      <th>AACCGCGTCAGCTCTC</th>\n",
       "      <th>AACGTTGTCGCGGATC</th>\n",
       "      <th>AACTCTTCAAACCCAT</th>\n",
       "      <th>...</th>\n",
       "      <th>TTCTCAATCGAATGCT</th>\n",
       "      <th>TTCTTAGGTTACGCGC</th>\n",
       "      <th>TTGACTTAGTCTTGCA</th>\n",
       "      <th>TTGGCAAGTGCCTGGT</th>\n",
       "      <th>TTGGCAATCGACAGCC</th>\n",
       "      <th>TTGTAGGGTTGCTCCT</th>\n",
       "      <th>TTTCCTCAGTTCGATC</th>\n",
       "      <th>TTTGCGCCACGAAAGC</th>\n",
       "      <th>TTTGGTTCATCACAAC</th>\n",
       "      <th>InnatenessLevel_(Beta)</th>\n",
       "    </tr>\n",
       "  </thead>\n",
       "  <tbody>\n",
       "    <tr>\n",
       "      <td>Mrpl15</td>\n",
       "      <td>0.000000</td>\n",
       "      <td>0.000000</td>\n",
       "      <td>0.000000</td>\n",
       "      <td>0.0</td>\n",
       "      <td>0.000000</td>\n",
       "      <td>0.0</td>\n",
       "      <td>0.0</td>\n",
       "      <td>4.314455</td>\n",
       "      <td>0.000000</td>\n",
       "      <td>0.00000</td>\n",
       "      <td>...</td>\n",
       "      <td>0.0</td>\n",
       "      <td>0.000000</td>\n",
       "      <td>0.000000</td>\n",
       "      <td>1.698681</td>\n",
       "      <td>0.000000</td>\n",
       "      <td>2.292696</td>\n",
       "      <td>0.000000</td>\n",
       "      <td>2.541669</td>\n",
       "      <td>0.000000</td>\n",
       "      <td>-0.006432</td>\n",
       "    </tr>\n",
       "    <tr>\n",
       "      <td>Lypla1</td>\n",
       "      <td>1.855591</td>\n",
       "      <td>2.336121</td>\n",
       "      <td>1.885434</td>\n",
       "      <td>0.0</td>\n",
       "      <td>2.477719</td>\n",
       "      <td>0.0</td>\n",
       "      <td>0.0</td>\n",
       "      <td>3.013454</td>\n",
       "      <td>1.841361</td>\n",
       "      <td>0.00000</td>\n",
       "      <td>...</td>\n",
       "      <td>0.0</td>\n",
       "      <td>0.000000</td>\n",
       "      <td>0.000000</td>\n",
       "      <td>0.000000</td>\n",
       "      <td>2.177268</td>\n",
       "      <td>0.000000</td>\n",
       "      <td>0.000000</td>\n",
       "      <td>0.000000</td>\n",
       "      <td>0.000000</td>\n",
       "      <td>0.047906</td>\n",
       "    </tr>\n",
       "    <tr>\n",
       "      <td>Tcea1</td>\n",
       "      <td>1.329057</td>\n",
       "      <td>1.157495</td>\n",
       "      <td>1.350432</td>\n",
       "      <td>0.0</td>\n",
       "      <td>0.000000</td>\n",
       "      <td>0.0</td>\n",
       "      <td>0.0</td>\n",
       "      <td>2.158369</td>\n",
       "      <td>0.000000</td>\n",
       "      <td>0.00000</td>\n",
       "      <td>...</td>\n",
       "      <td>0.0</td>\n",
       "      <td>1.957821</td>\n",
       "      <td>0.849821</td>\n",
       "      <td>0.000000</td>\n",
       "      <td>1.559456</td>\n",
       "      <td>0.000000</td>\n",
       "      <td>2.235812</td>\n",
       "      <td>0.000000</td>\n",
       "      <td>1.243851</td>\n",
       "      <td>0.001308</td>\n",
       "    </tr>\n",
       "    <tr>\n",
       "      <td>Rgs20</td>\n",
       "      <td>0.000000</td>\n",
       "      <td>0.000000</td>\n",
       "      <td>0.000000</td>\n",
       "      <td>0.0</td>\n",
       "      <td>0.000000</td>\n",
       "      <td>0.0</td>\n",
       "      <td>0.0</td>\n",
       "      <td>0.000000</td>\n",
       "      <td>0.000000</td>\n",
       "      <td>0.00000</td>\n",
       "      <td>...</td>\n",
       "      <td>0.0</td>\n",
       "      <td>0.000000</td>\n",
       "      <td>0.000000</td>\n",
       "      <td>0.000000</td>\n",
       "      <td>0.000000</td>\n",
       "      <td>0.000000</td>\n",
       "      <td>0.000000</td>\n",
       "      <td>0.000000</td>\n",
       "      <td>0.000000</td>\n",
       "      <td>-0.012159</td>\n",
       "    </tr>\n",
       "    <tr>\n",
       "      <td>Atp6v1h</td>\n",
       "      <td>2.390221</td>\n",
       "      <td>0.000000</td>\n",
       "      <td>0.000000</td>\n",
       "      <td>0.0</td>\n",
       "      <td>0.000000</td>\n",
       "      <td>0.0</td>\n",
       "      <td>0.0</td>\n",
       "      <td>0.000000</td>\n",
       "      <td>0.000000</td>\n",
       "      <td>2.20537</td>\n",
       "      <td>...</td>\n",
       "      <td>0.0</td>\n",
       "      <td>0.000000</td>\n",
       "      <td>0.000000</td>\n",
       "      <td>0.000000</td>\n",
       "      <td>0.000000</td>\n",
       "      <td>0.000000</td>\n",
       "      <td>0.000000</td>\n",
       "      <td>0.000000</td>\n",
       "      <td>2.236984</td>\n",
       "      <td>0.010727</td>\n",
       "    </tr>\n",
       "  </tbody>\n",
       "</table>\n",
       "<p>5 rows × 479 columns</p>\n",
       "</div>"
      ],
      "text/plain": [
       "         AAACGGGCATCAGTCA  AAACGGGGTGTCCTCT  AAACGGGGTTCGTTGA  \\\n",
       "Mrpl15           0.000000          0.000000          0.000000   \n",
       "Lypla1           1.855591          2.336121          1.885434   \n",
       "Tcea1            1.329057          1.157495          1.350432   \n",
       "Rgs20            0.000000          0.000000          0.000000   \n",
       "Atp6v1h          2.390221          0.000000          0.000000   \n",
       "\n",
       "         AAAGATGGTTCAACCA  AAATGCCAGCCACCTG  AAATGCCCATCGACGC  \\\n",
       "Mrpl15                0.0          0.000000               0.0   \n",
       "Lypla1                0.0          2.477719               0.0   \n",
       "Tcea1                 0.0          0.000000               0.0   \n",
       "Rgs20                 0.0          0.000000               0.0   \n",
       "Atp6v1h               0.0          0.000000               0.0   \n",
       "\n",
       "         AACACGTCACTACAGT  AACCGCGTCAGCTCTC  AACGTTGTCGCGGATC  \\\n",
       "Mrpl15                0.0          4.314455          0.000000   \n",
       "Lypla1                0.0          3.013454          1.841361   \n",
       "Tcea1                 0.0          2.158369          0.000000   \n",
       "Rgs20                 0.0          0.000000          0.000000   \n",
       "Atp6v1h               0.0          0.000000          0.000000   \n",
       "\n",
       "         AACTCTTCAAACCCAT  ...  TTCTCAATCGAATGCT  TTCTTAGGTTACGCGC  \\\n",
       "Mrpl15            0.00000  ...               0.0          0.000000   \n",
       "Lypla1            0.00000  ...               0.0          0.000000   \n",
       "Tcea1             0.00000  ...               0.0          1.957821   \n",
       "Rgs20             0.00000  ...               0.0          0.000000   \n",
       "Atp6v1h           2.20537  ...               0.0          0.000000   \n",
       "\n",
       "         TTGACTTAGTCTTGCA  TTGGCAAGTGCCTGGT  TTGGCAATCGACAGCC  \\\n",
       "Mrpl15           0.000000          1.698681          0.000000   \n",
       "Lypla1           0.000000          0.000000          2.177268   \n",
       "Tcea1            0.849821          0.000000          1.559456   \n",
       "Rgs20            0.000000          0.000000          0.000000   \n",
       "Atp6v1h          0.000000          0.000000          0.000000   \n",
       "\n",
       "         TTGTAGGGTTGCTCCT  TTTCCTCAGTTCGATC  TTTGCGCCACGAAAGC  \\\n",
       "Mrpl15           2.292696          0.000000          2.541669   \n",
       "Lypla1           0.000000          0.000000          0.000000   \n",
       "Tcea1            0.000000          2.235812          0.000000   \n",
       "Rgs20            0.000000          0.000000          0.000000   \n",
       "Atp6v1h          0.000000          0.000000          0.000000   \n",
       "\n",
       "         TTTGGTTCATCACAAC  InnatenessLevel_(Beta)  \n",
       "Mrpl15           0.000000               -0.006432  \n",
       "Lypla1           0.000000                0.047906  \n",
       "Tcea1            1.243851                0.001308  \n",
       "Rgs20            0.000000               -0.012159  \n",
       "Atp6v1h          2.236984                0.010727  \n",
       "\n",
       "[5 rows x 479 columns]"
      ]
     },
     "execution_count": 74,
     "metadata": {},
     "output_type": "execute_result"
    }
   ],
   "source": [
    "iel_neg_filt.head()"
   ]
  },
  {
   "cell_type": "code",
   "execution_count": 27,
   "metadata": {},
   "outputs": [],
   "source": [
    "test = iel_neg_filt[\"AACGTTGTCGCGGATC\"] * iel_neg_filt[\"InnatenessLevel_(Beta)\"]\n",
    "    "
   ]
  },
  {
   "cell_type": "code",
   "execution_count": 28,
   "metadata": {},
   "outputs": [
    {
     "data": {
      "text/plain": [
       "Mrpl15    -0.000000\n",
       "Lypla1     0.088212\n",
       "Tcea1      0.000000\n",
       "Rgs20     -0.000000\n",
       "Atp6v1h    0.000000\n",
       "dtype: float64"
      ]
     },
     "execution_count": 28,
     "metadata": {},
     "output_type": "execute_result"
    }
   ],
   "source": [
    "test.head()"
   ]
  },
  {
   "cell_type": "code",
   "execution_count": 29,
   "metadata": {},
   "outputs": [],
   "source": [
    "\n",
    "test = pd.qcut(iel_neg_filt[\"AACGTTGTCGCGGATC\"].astype(float),100,  duplicates = \"drop\")"
   ]
  },
  {
   "cell_type": "code",
   "execution_count": 30,
   "metadata": {},
   "outputs": [
    {
     "data": {
      "text/plain": [
       "Mrpl15     (-0.001, 0.963]\n",
       "Lypla1      (1.678, 1.907]\n",
       "Tcea1      (-0.001, 0.963]\n",
       "Rgs20      (-0.001, 0.963]\n",
       "Atp6v1h    (-0.001, 0.963]\n",
       "                ...       \n",
       "mt-Nd6     (-0.001, 0.963]\n",
       "mt-Cytb     (1.143, 1.325]\n",
       "Gm16367    (-0.001, 0.963]\n",
       "Vamp7      (-0.001, 0.963]\n",
       "Tmlhe      (-0.001, 0.963]\n",
       "Name: AACGTTGTCGCGGATC, Length: 11747, dtype: category\n",
       "Categories (12, interval[float64]): [(-0.001, 0.963] < (0.963, 1.143] < (1.143, 1.325] < (1.325, 1.484] ... (2.45, 2.792] < (2.792, 3.246] < (3.246, 4.116] < (4.116, 10.0]]"
      ]
     },
     "execution_count": 30,
     "metadata": {},
     "output_type": "execute_result"
    }
   ],
   "source": [
    "test"
   ]
  },
  {
   "cell_type": "code",
   "execution_count": 31,
   "metadata": {},
   "outputs": [],
   "source": [
    "dfs = []\n",
    "for c in iel_neg_filt.columns.tolist():\n",
    "    if c != \"InnatenessLevel_(Beta)\":\n",
    "        df = iel_neg_filt[c] * iel_neg_filt[\"InnatenessLevel_(Beta)\"]\n",
    "        df = df.to_frame(c)\n",
    "        dfs.append(df)\n",
    "\n",
    "iel_neg_filt_trans = pd.concat(dfs, axis = 1)"
   ]
  },
  {
   "cell_type": "code",
   "execution_count": 32,
   "metadata": {},
   "outputs": [],
   "source": [
    "dfs = []\n",
    "for c in iel_pos_filt.columns.tolist():\n",
    "    if c != \"InnatenessLevel_(Beta)\":\n",
    "        df = iel_pos_filt[c] * iel_neg_filt[\"InnatenessLevel_(Beta)\"]\n",
    "        df = df.to_frame(c)\n",
    "        dfs.append(df)\n",
    "        \n",
    "iel_pos_filt_trans = pd.concat(dfs, axis = 1)"
   ]
  },
  {
   "cell_type": "code",
   "execution_count": 33,
   "metadata": {},
   "outputs": [
    {
     "data": {
      "text/plain": [
       "(11747, 1035)"
      ]
     },
     "execution_count": 33,
     "metadata": {},
     "output_type": "execute_result"
    }
   ],
   "source": [
    "iel_pos_filt_trans.shape"
   ]
  },
  {
   "cell_type": "code",
   "execution_count": 34,
   "metadata": {},
   "outputs": [],
   "source": [
    "aggregate_score_iel_neg = iel_neg_filt_trans.sum(axis = 0)\n",
    "aggregate_score_iel_neg = aggregate_score_iel_neg.to_frame(\"innateness_score\")\n",
    "aggregate_score_iel_neg['category'] = \"iel_neg\"\n",
    "aggregate_score_iel_neg[\"barcode\"] = \"Neg_\" + aggregate_score_iel_neg.index\n",
    "aggregate_score_iel_neg = aggregate_score_iel_neg.reset_index(drop = True)"
   ]
  },
  {
   "cell_type": "code",
   "execution_count": 35,
   "metadata": {},
   "outputs": [],
   "source": [
    "aggregate_score_iel_neg = aggregate_score_iel_neg.merge(meta[[\"Barcode\",\"Res.1.0_Named\"]].set_index(\"Barcode\"),\n",
    "                              left_on = \"barcode\", right_index = True, how = 'left')"
   ]
  },
  {
   "cell_type": "code",
   "execution_count": 36,
   "metadata": {},
   "outputs": [],
   "source": [
    "aggregate_score_iel_pos = iel_pos_filt_trans.sum(axis = 0)\n",
    "aggregate_score_iel_pos = aggregate_score_iel_pos.to_frame(\"innateness_score\")\n",
    "aggregate_score_iel_pos['category'] = \"iel_pos\"\n",
    "aggregate_score_iel_pos[\"barcode\"] = \"Pos_\" + aggregate_score_iel_pos.index\n",
    "aggregate_score_iel_pos = aggregate_score_iel_pos.reset_index(drop = True)"
   ]
  },
  {
   "cell_type": "code",
   "execution_count": 37,
   "metadata": {},
   "outputs": [],
   "source": [
    "aggregate_score_iel_pos = aggregate_score_iel_pos.merge(meta[[\"Barcode\",\"Res.1.0_Named\"]].set_index(\"Barcode\"),\n",
    "                              left_on = \"barcode\", right_index = True, how = 'left')"
   ]
  },
  {
   "cell_type": "code",
   "execution_count": 38,
   "metadata": {},
   "outputs": [],
   "source": [
    "aggregate_scores_all = pd.concat([aggregate_score_iel_neg, aggregate_score_iel_pos], ignore_index = True)"
   ]
  },
  {
   "cell_type": "code",
   "execution_count": 39,
   "metadata": {},
   "outputs": [
    {
     "data": {
      "text/html": [
       "<div>\n",
       "<style scoped>\n",
       "    .dataframe tbody tr th:only-of-type {\n",
       "        vertical-align: middle;\n",
       "    }\n",
       "\n",
       "    .dataframe tbody tr th {\n",
       "        vertical-align: top;\n",
       "    }\n",
       "\n",
       "    .dataframe thead th {\n",
       "        text-align: right;\n",
       "    }\n",
       "</style>\n",
       "<table border=\"1\" class=\"dataframe\">\n",
       "  <thead>\n",
       "    <tr style=\"text-align: right;\">\n",
       "      <th></th>\n",
       "      <th>innateness_score</th>\n",
       "      <th>category</th>\n",
       "      <th>barcode</th>\n",
       "      <th>Res.1.0_Named</th>\n",
       "    </tr>\n",
       "  </thead>\n",
       "  <tbody>\n",
       "    <tr>\n",
       "      <td>0</td>\n",
       "      <td>48.625035</td>\n",
       "      <td>iel_pos</td>\n",
       "      <td>Pos_AAACCTGTCGGCGCAT</td>\n",
       "      <td>0_Pre-IELS1</td>\n",
       "    </tr>\n",
       "    <tr>\n",
       "      <td>1</td>\n",
       "      <td>31.639730</td>\n",
       "      <td>iel_pos</td>\n",
       "      <td>Pos_AAACCTGTCGTTTGCC</td>\n",
       "      <td>4_Pre-IEL2</td>\n",
       "    </tr>\n",
       "    <tr>\n",
       "      <td>2</td>\n",
       "      <td>50.977748</td>\n",
       "      <td>iel_pos</td>\n",
       "      <td>Pos_AAACGGGAGAACAACT</td>\n",
       "      <td>0_Pre-IELS1</td>\n",
       "    </tr>\n",
       "    <tr>\n",
       "      <td>3</td>\n",
       "      <td>57.673448</td>\n",
       "      <td>iel_pos</td>\n",
       "      <td>Pos_AAACGGGAGGAGTAGA</td>\n",
       "      <td>1_Treg-like</td>\n",
       "    </tr>\n",
       "    <tr>\n",
       "      <td>4</td>\n",
       "      <td>48.029379</td>\n",
       "      <td>iel_pos</td>\n",
       "      <td>Pos_AAACGGGGTGTGACGA</td>\n",
       "      <td>Egr3_Cells</td>\n",
       "    </tr>\n",
       "  </tbody>\n",
       "</table>\n",
       "</div>"
      ],
      "text/plain": [
       "   innateness_score category               barcode Res.1.0_Named\n",
       "0         48.625035  iel_pos  Pos_AAACCTGTCGGCGCAT   0_Pre-IELS1\n",
       "1         31.639730  iel_pos  Pos_AAACCTGTCGTTTGCC    4_Pre-IEL2\n",
       "2         50.977748  iel_pos  Pos_AAACGGGAGAACAACT   0_Pre-IELS1\n",
       "3         57.673448  iel_pos  Pos_AAACGGGAGGAGTAGA   1_Treg-like\n",
       "4         48.029379  iel_pos  Pos_AAACGGGGTGTGACGA    Egr3_Cells"
      ]
     },
     "execution_count": 39,
     "metadata": {},
     "output_type": "execute_result"
    }
   ],
   "source": [
    "aggregate_score_iel_pos.head()"
   ]
  },
  {
   "cell_type": "code",
   "execution_count": 40,
   "metadata": {},
   "outputs": [
    {
     "data": {
      "text/plain": [
       "(1294,)"
      ]
     },
     "execution_count": 40,
     "metadata": {},
     "output_type": "execute_result"
    }
   ],
   "source": [
    "meta.Barcode.unique().shape"
   ]
  },
  {
   "cell_type": "code",
   "execution_count": 41,
   "metadata": {},
   "outputs": [
    {
     "data": {
      "text/plain": [
       "(11747, 479)"
      ]
     },
     "execution_count": 41,
     "metadata": {},
     "output_type": "execute_result"
    }
   ],
   "source": [
    "iel_neg_filt.shape"
   ]
  },
  {
   "cell_type": "code",
   "execution_count": 42,
   "metadata": {},
   "outputs": [
    {
     "data": {
      "text/plain": [
       "(1294, 13)"
      ]
     },
     "execution_count": 42,
     "metadata": {},
     "output_type": "execute_result"
    }
   ],
   "source": [
    "meta.shape"
   ]
  },
  {
   "cell_type": "code",
   "execution_count": 43,
   "metadata": {},
   "outputs": [
    {
     "data": {
      "text/html": [
       "<div>\n",
       "<style scoped>\n",
       "    .dataframe tbody tr th:only-of-type {\n",
       "        vertical-align: middle;\n",
       "    }\n",
       "\n",
       "    .dataframe tbody tr th {\n",
       "        vertical-align: top;\n",
       "    }\n",
       "\n",
       "    .dataframe thead th {\n",
       "        text-align: right;\n",
       "    }\n",
       "</style>\n",
       "<table border=\"1\" class=\"dataframe\">\n",
       "  <thead>\n",
       "    <tr style=\"text-align: right;\">\n",
       "      <th></th>\n",
       "      <th>innateness_score</th>\n",
       "      <th>category</th>\n",
       "      <th>barcode</th>\n",
       "      <th>Res.1.0_Named</th>\n",
       "    </tr>\n",
       "  </thead>\n",
       "  <tbody>\n",
       "    <tr>\n",
       "      <td>0</td>\n",
       "      <td>30.324211</td>\n",
       "      <td>iel_neg</td>\n",
       "      <td>Neg_AAACGGGCATCAGTCA</td>\n",
       "      <td>NaN</td>\n",
       "    </tr>\n",
       "    <tr>\n",
       "      <td>1</td>\n",
       "      <td>48.362175</td>\n",
       "      <td>iel_neg</td>\n",
       "      <td>Neg_AAACGGGGTGTCCTCT</td>\n",
       "      <td>2_CD4-IELS</td>\n",
       "    </tr>\n",
       "    <tr>\n",
       "      <td>2</td>\n",
       "      <td>59.571096</td>\n",
       "      <td>iel_neg</td>\n",
       "      <td>Neg_AAACGGGGTTCGTTGA</td>\n",
       "      <td>2_CD4-IELS</td>\n",
       "    </tr>\n",
       "    <tr>\n",
       "      <td>3</td>\n",
       "      <td>46.108556</td>\n",
       "      <td>iel_neg</td>\n",
       "      <td>Neg_AAAGATGGTTCAACCA</td>\n",
       "      <td>2_CD4-IELS</td>\n",
       "    </tr>\n",
       "    <tr>\n",
       "      <td>4</td>\n",
       "      <td>68.134065</td>\n",
       "      <td>iel_neg</td>\n",
       "      <td>Neg_AAATGCCAGCCACCTG</td>\n",
       "      <td>2_CD4-IELS</td>\n",
       "    </tr>\n",
       "  </tbody>\n",
       "</table>\n",
       "</div>"
      ],
      "text/plain": [
       "   innateness_score category               barcode Res.1.0_Named\n",
       "0         30.324211  iel_neg  Neg_AAACGGGCATCAGTCA           NaN\n",
       "1         48.362175  iel_neg  Neg_AAACGGGGTGTCCTCT    2_CD4-IELS\n",
       "2         59.571096  iel_neg  Neg_AAACGGGGTTCGTTGA    2_CD4-IELS\n",
       "3         46.108556  iel_neg  Neg_AAAGATGGTTCAACCA    2_CD4-IELS\n",
       "4         68.134065  iel_neg  Neg_AAATGCCAGCCACCTG    2_CD4-IELS"
      ]
     },
     "execution_count": 43,
     "metadata": {},
     "output_type": "execute_result"
    }
   ],
   "source": [
    "aggregate_score_iel_neg.head()"
   ]
  },
  {
   "cell_type": "code",
   "execution_count": 44,
   "metadata": {},
   "outputs": [
    {
     "data": {
      "text/plain": [
       "False    396\n",
       "True      82\n",
       "Name: Res.1.0_Named, dtype: int64"
      ]
     },
     "execution_count": 44,
     "metadata": {},
     "output_type": "execute_result"
    }
   ],
   "source": [
    "aggregate_score_iel_neg[\"Res.1.0_Named\"].isnull().value_counts()"
   ]
  },
  {
   "cell_type": "code",
   "execution_count": 45,
   "metadata": {},
   "outputs": [],
   "source": [
    "for_plot = aggregate_score_iel_neg[aggregate_score_iel_neg[\"Res.1.0_Named\"].notnull()]"
   ]
  },
  {
   "cell_type": "code",
   "execution_count": 46,
   "metadata": {},
   "outputs": [],
   "source": [
    "for_plot_all = aggregate_scores_all[aggregate_scores_all[\"Res.1.0_Named\"].notnull()]"
   ]
  },
  {
   "cell_type": "code",
   "execution_count": 47,
   "metadata": {},
   "outputs": [],
   "source": [
    "fn_out = '/Users/angelinechen/Desktop/GSE157453/aggregate_innateness_prediction.tsv'\n",
    "aggregate_scores_all.to_csv(fn_out, sep = '\\t', index = False)"
   ]
  },
  {
   "cell_type": "code",
   "execution_count": null,
   "metadata": {},
   "outputs": [],
   "source": []
  },
  {
   "cell_type": "code",
   "execution_count": 48,
   "metadata": {},
   "outputs": [
    {
     "data": {
      "text/plain": [
       "Text(0.5, 1.0, 'IEL Neg')"
      ]
     },
     "execution_count": 48,
     "metadata": {},
     "output_type": "execute_result"
    },
    {
     "data": {
      "image/png": "[encoded data removed]",
      "text/plain": [
       "<Figure size 720x720 with 1 Axes>"
      ]
     },
     "metadata": {
      "needs_background": "light"
     },
     "output_type": "display_data"
    }
   ],
   "source": [
    "fig, ax = plt.subplots(1,1, figsize = (10,10))\n",
    "\n",
    "ax = sns.violinplot(y = \"Res.1.0_Named\", x = \"innateness_score\", data = for_plot, ax = ax)\n",
    "ax.set_xlabel(\"Innateness\")\n",
    "ax.set_title(\"IEL Neg\")\n",
    "\n",
    "\n"
   ]
  },
  {
   "cell_type": "code",
   "execution_count": 114,
   "metadata": {},
   "outputs": [
    {
     "data": {
      "text/plain": [
       "Text(0.5, 1.0, 'IEL Neg')"
      ]
     },
     "execution_count": 114,
     "metadata": {},
     "output_type": "execute_result"
    },
    {
     "data": {
      "image/png": "[encoded data removed]",
      "text/plain": [
       "<Figure size 720x720 with 1 Axes>"
      ]
     },
     "metadata": {
      "needs_background": "light"
     },
     "output_type": "display_data"
    }
   ],
   "source": [
    "fig, ax = plt.subplots(1,1, figsize = (10,10))\n",
    "\n",
    "ax = sns.violinplot(y = \"Res.1.0_Named\", x = \"innateness_score\", hue = \"category\",\n",
    "                    data = for_plot_all, ax = ax)\n",
    "ax.set_xlabel(\"Innateness\")\n",
    "ax.set_title(\"IEL Neg\")\n"
   ]
  },
  {
   "cell_type": "code",
   "execution_count": 78,
   "metadata": {},
   "outputs": [
    {
     "data": {
      "text/plain": [
       "<matplotlib.axes._subplots.AxesSubplot at 0x1a1f758c90>"
      ]
     },
     "execution_count": 78,
     "metadata": {},
     "output_type": "execute_result"
    },
    {
     "data": {
      "image/png": "[encoded data removed]",
      "text/plain": [
       "<Figure size 432x288 with 1 Axes>"
      ]
     },
     "metadata": {
      "needs_background": "light"
     },
     "output_type": "display_data"
    }
   ],
   "source": [
    "aggregate_score_iel_neg.hist(bins = 100)"
   ]
  },
  {
   "cell_type": "code",
   "execution_count": null,
   "metadata": {},
   "outputs": [],
   "source": []
  },
  {
   "cell_type": "code",
   "execution_count": 73,
   "metadata": {},
   "outputs": [
    {
     "data": {
      "text/plain": [
       "Mrpl15     0.000000\n",
       "Lypla1     1.841361\n",
       "Tcea1      0.000000\n",
       "Rgs20      0.000000\n",
       "Atp6v1h    0.000000\n",
       "Name: AACGTTGTCGCGGATC, dtype: float64"
      ]
     },
     "execution_count": 73,
     "metadata": {},
     "output_type": "execute_result"
    }
   ],
   "source": [
    " iel_neg_filt[\"AACGTTGTCGCGGATC\"].head()"
   ]
  },
  {
   "cell_type": "code",
   "execution_count": 75,
   "metadata": {},
   "outputs": [
    {
     "data": {
      "text/plain": [
       "Mrpl15    -0.000000\n",
       "Lypla1     0.088212\n",
       "Tcea1      0.000000\n",
       "Rgs20     -0.000000\n",
       "Atp6v1h    0.000000\n",
       "Name: AACGTTGTCGCGGATC, dtype: float64"
      ]
     },
     "execution_count": 75,
     "metadata": {},
     "output_type": "execute_result"
    }
   ],
   "source": [
    "iel_neg_filt_trans[\"AACGTTGTCGCGGATC\"].head()"
   ]
  },
  {
   "cell_type": "code",
   "execution_count": 36,
   "metadata": {},
   "outputs": [
    {
     "data": {
      "text/html": [
       "<div>\n",
       "<style scoped>\n",
       "    .dataframe tbody tr th:only-of-type {\n",
       "        vertical-align: middle;\n",
       "    }\n",
       "\n",
       "    .dataframe tbody tr th {\n",
       "        vertical-align: top;\n",
       "    }\n",
       "\n",
       "    .dataframe thead th {\n",
       "        text-align: right;\n",
       "    }\n",
       "</style>\n",
       "<table border=\"1\" class=\"dataframe\">\n",
       "  <thead>\n",
       "    <tr style=\"text-align: right;\">\n",
       "      <th></th>\n",
       "      <th>GENE_NAME</th>\n",
       "      <th>GENE_TYPE</th>\n",
       "      <th>InnatenessLevel_(Beta)</th>\n",
       "      <th>StdErr</th>\n",
       "      <th>Tvalue</th>\n",
       "      <th>Chisq</th>\n",
       "      <th>Pvalue</th>\n",
       "      <th>CalledSignificant</th>\n",
       "      <th>Chromosome.scaffold.name</th>\n",
       "      <th>MGI.symbol</th>\n",
       "      <th>Chromosome.scaffold.name.1</th>\n",
       "      <th>Gene.start..bp.</th>\n",
       "      <th>Gene.end..bp.</th>\n",
       "    </tr>\n",
       "  </thead>\n",
       "  <tbody>\n",
       "    <tr>\n",
       "      <td>5320</td>\n",
       "      <td>KRBOX4</td>\n",
       "      <td>protein_coding</td>\n",
       "      <td>-0.040604</td>\n",
       "      <td>0.017789</td>\n",
       "      <td>-2.282505</td>\n",
       "      <td>5.039599</td>\n",
       "      <td>0.024774</td>\n",
       "      <td>0</td>\n",
       "      <td>X</td>\n",
       "      <td>Zfp78</td>\n",
       "      <td>7</td>\n",
       "      <td>6363280</td>\n",
       "      <td>6382605</td>\n",
       "    </tr>\n",
       "    <tr>\n",
       "      <td>7924</td>\n",
       "      <td>PRDM9</td>\n",
       "      <td>protein_coding</td>\n",
       "      <td>0.032233</td>\n",
       "      <td>0.026206</td>\n",
       "      <td>1.229965</td>\n",
       "      <td>1.498510</td>\n",
       "      <td>0.220901</td>\n",
       "      <td>0</td>\n",
       "      <td>5</td>\n",
       "      <td>Zfp78</td>\n",
       "      <td>7</td>\n",
       "      <td>6363280</td>\n",
       "      <td>6382605</td>\n",
       "    </tr>\n",
       "    <tr>\n",
       "      <td>12205</td>\n",
       "      <td>ZNF124</td>\n",
       "      <td>protein_coding</td>\n",
       "      <td>-0.030801</td>\n",
       "      <td>0.013316</td>\n",
       "      <td>-2.313149</td>\n",
       "      <td>5.177247</td>\n",
       "      <td>0.022885</td>\n",
       "      <td>0</td>\n",
       "      <td>1</td>\n",
       "      <td>Zfp78</td>\n",
       "      <td>7</td>\n",
       "      <td>6363280</td>\n",
       "      <td>6382605</td>\n",
       "    </tr>\n",
       "    <tr>\n",
       "      <td>12225</td>\n",
       "      <td>ZNF20</td>\n",
       "      <td>protein_coding</td>\n",
       "      <td>-0.066225</td>\n",
       "      <td>0.032236</td>\n",
       "      <td>-2.054375</td>\n",
       "      <td>4.111582</td>\n",
       "      <td>0.042591</td>\n",
       "      <td>0</td>\n",
       "      <td>19</td>\n",
       "      <td>Zfp78</td>\n",
       "      <td>7</td>\n",
       "      <td>6363280</td>\n",
       "      <td>6382605</td>\n",
       "    </tr>\n",
       "    <tr>\n",
       "      <td>12280</td>\n",
       "      <td>ZNF337</td>\n",
       "      <td>protein_coding</td>\n",
       "      <td>-0.037473</td>\n",
       "      <td>0.021910</td>\n",
       "      <td>-1.710308</td>\n",
       "      <td>2.870625</td>\n",
       "      <td>0.090210</td>\n",
       "      <td>0</td>\n",
       "      <td>20</td>\n",
       "      <td>Zfp78</td>\n",
       "      <td>7</td>\n",
       "      <td>6363280</td>\n",
       "      <td>6382605</td>\n",
       "    </tr>\n",
       "    <tr>\n",
       "      <td>12361</td>\n",
       "      <td>ZNF439</td>\n",
       "      <td>protein_coding</td>\n",
       "      <td>-0.063504</td>\n",
       "      <td>0.025337</td>\n",
       "      <td>-2.506333</td>\n",
       "      <td>6.044458</td>\n",
       "      <td>0.013950</td>\n",
       "      <td>0</td>\n",
       "      <td>19</td>\n",
       "      <td>Zfp78</td>\n",
       "      <td>7</td>\n",
       "      <td>6363280</td>\n",
       "      <td>6382605</td>\n",
       "    </tr>\n",
       "    <tr>\n",
       "      <td>12362</td>\n",
       "      <td>ZNF440</td>\n",
       "      <td>protein_coding</td>\n",
       "      <td>0.007731</td>\n",
       "      <td>0.014651</td>\n",
       "      <td>0.527694</td>\n",
       "      <td>0.277971</td>\n",
       "      <td>0.598034</td>\n",
       "      <td>0</td>\n",
       "      <td>19</td>\n",
       "      <td>Zfp78</td>\n",
       "      <td>7</td>\n",
       "      <td>6363280</td>\n",
       "      <td>6382605</td>\n",
       "    </tr>\n",
       "    <tr>\n",
       "      <td>12375</td>\n",
       "      <td>ZNF491</td>\n",
       "      <td>protein_coding</td>\n",
       "      <td>-0.030574</td>\n",
       "      <td>0.046404</td>\n",
       "      <td>-0.658870</td>\n",
       "      <td>0.432921</td>\n",
       "      <td>0.510559</td>\n",
       "      <td>0</td>\n",
       "      <td>19</td>\n",
       "      <td>Zfp78</td>\n",
       "      <td>7</td>\n",
       "      <td>6363280</td>\n",
       "      <td>6382605</td>\n",
       "    </tr>\n",
       "    <tr>\n",
       "      <td>12396</td>\n",
       "      <td>ZNF554</td>\n",
       "      <td>protein_coding</td>\n",
       "      <td>-0.002584</td>\n",
       "      <td>0.013772</td>\n",
       "      <td>-0.187662</td>\n",
       "      <td>0.035174</td>\n",
       "      <td>0.851231</td>\n",
       "      <td>0</td>\n",
       "      <td>19</td>\n",
       "      <td>Zfp78</td>\n",
       "      <td>7</td>\n",
       "      <td>6363280</td>\n",
       "      <td>6382605</td>\n",
       "    </tr>\n",
       "    <tr>\n",
       "      <td>12397</td>\n",
       "      <td>ZNF555</td>\n",
       "      <td>protein_coding</td>\n",
       "      <td>0.007938</td>\n",
       "      <td>0.027464</td>\n",
       "      <td>0.289027</td>\n",
       "      <td>0.083491</td>\n",
       "      <td>0.772621</td>\n",
       "      <td>0</td>\n",
       "      <td>19</td>\n",
       "      <td>Zfp78</td>\n",
       "      <td>7</td>\n",
       "      <td>6363280</td>\n",
       "      <td>6382605</td>\n",
       "    </tr>\n",
       "    <tr>\n",
       "      <td>12398</td>\n",
       "      <td>ZNF556</td>\n",
       "      <td>protein_coding</td>\n",
       "      <td>-0.030157</td>\n",
       "      <td>0.013188</td>\n",
       "      <td>-2.286657</td>\n",
       "      <td>5.003952</td>\n",
       "      <td>0.025290</td>\n",
       "      <td>0</td>\n",
       "      <td>19</td>\n",
       "      <td>Zfp78</td>\n",
       "      <td>7</td>\n",
       "      <td>6363280</td>\n",
       "      <td>6382605</td>\n",
       "    </tr>\n",
       "    <tr>\n",
       "      <td>12448</td>\n",
       "      <td>ZNF669</td>\n",
       "      <td>protein_coding</td>\n",
       "      <td>0.025478</td>\n",
       "      <td>0.024384</td>\n",
       "      <td>1.044864</td>\n",
       "      <td>1.084081</td>\n",
       "      <td>0.297786</td>\n",
       "      <td>0</td>\n",
       "      <td>1</td>\n",
       "      <td>Zfp78</td>\n",
       "      <td>7</td>\n",
       "      <td>6363280</td>\n",
       "      <td>6382605</td>\n",
       "    </tr>\n",
       "    <tr>\n",
       "      <td>12450</td>\n",
       "      <td>ZNF674</td>\n",
       "      <td>protein_coding</td>\n",
       "      <td>-0.036204</td>\n",
       "      <td>0.017621</td>\n",
       "      <td>-2.054654</td>\n",
       "      <td>4.112669</td>\n",
       "      <td>0.042563</td>\n",
       "      <td>0</td>\n",
       "      <td>X</td>\n",
       "      <td>Zfp78</td>\n",
       "      <td>7</td>\n",
       "      <td>6363280</td>\n",
       "      <td>6382605</td>\n",
       "    </tr>\n",
       "    <tr>\n",
       "      <td>12476</td>\n",
       "      <td>ZNF69</td>\n",
       "      <td>protein_coding</td>\n",
       "      <td>-0.017559</td>\n",
       "      <td>0.019841</td>\n",
       "      <td>-0.884986</td>\n",
       "      <td>0.779343</td>\n",
       "      <td>0.377342</td>\n",
       "      <td>0</td>\n",
       "      <td>19</td>\n",
       "      <td>Zfp78</td>\n",
       "      <td>7</td>\n",
       "      <td>6363280</td>\n",
       "      <td>6382605</td>\n",
       "    </tr>\n",
       "    <tr>\n",
       "      <td>12488</td>\n",
       "      <td>ZNF705A</td>\n",
       "      <td>protein_coding</td>\n",
       "      <td>0.072379</td>\n",
       "      <td>0.060989</td>\n",
       "      <td>1.186764</td>\n",
       "      <td>1.395520</td>\n",
       "      <td>0.237475</td>\n",
       "      <td>0</td>\n",
       "      <td>12</td>\n",
       "      <td>Zfp78</td>\n",
       "      <td>7</td>\n",
       "      <td>6363280</td>\n",
       "      <td>6382605</td>\n",
       "    </tr>\n",
       "    <tr>\n",
       "      <td>12502</td>\n",
       "      <td>ZNF749</td>\n",
       "      <td>protein_coding</td>\n",
       "      <td>-0.027546</td>\n",
       "      <td>0.034746</td>\n",
       "      <td>-0.792804</td>\n",
       "      <td>0.626032</td>\n",
       "      <td>0.428815</td>\n",
       "      <td>0</td>\n",
       "      <td>19</td>\n",
       "      <td>Zfp78</td>\n",
       "      <td>7</td>\n",
       "      <td>6363280</td>\n",
       "      <td>6382605</td>\n",
       "    </tr>\n",
       "    <tr>\n",
       "      <td>12504</td>\n",
       "      <td>ZNF763</td>\n",
       "      <td>protein_coding</td>\n",
       "      <td>0.030477</td>\n",
       "      <td>0.034118</td>\n",
       "      <td>0.893285</td>\n",
       "      <td>0.793689</td>\n",
       "      <td>0.372987</td>\n",
       "      <td>0</td>\n",
       "      <td>19</td>\n",
       "      <td>Zfp78</td>\n",
       "      <td>7</td>\n",
       "      <td>6363280</td>\n",
       "      <td>6382605</td>\n",
       "    </tr>\n",
       "    <tr>\n",
       "      <td>12549</td>\n",
       "      <td>ZNF891</td>\n",
       "      <td>protein_coding</td>\n",
       "      <td>-0.042091</td>\n",
       "      <td>0.008616</td>\n",
       "      <td>-4.885416</td>\n",
       "      <td>20.607684</td>\n",
       "      <td>0.000006</td>\n",
       "      <td>0</td>\n",
       "      <td>12</td>\n",
       "      <td>Zfp78</td>\n",
       "      <td>7</td>\n",
       "      <td>6363280</td>\n",
       "      <td>6382605</td>\n",
       "    </tr>\n",
       "  </tbody>\n",
       "</table>\n",
       "</div>"
      ],
      "text/plain": [
       "      GENE_NAME       GENE_TYPE  InnatenessLevel_(Beta)    StdErr    Tvalue  \\\n",
       "5320     KRBOX4  protein_coding               -0.040604  0.017789 -2.282505   \n",
       "7924      PRDM9  protein_coding                0.032233  0.026206  1.229965   \n",
       "12205    ZNF124  protein_coding               -0.030801  0.013316 -2.313149   \n",
       "12225     ZNF20  protein_coding               -0.066225  0.032236 -2.054375   \n",
       "12280    ZNF337  protein_coding               -0.037473  0.021910 -1.710308   \n",
       "12361    ZNF439  protein_coding               -0.063504  0.025337 -2.506333   \n",
       "12362    ZNF440  protein_coding                0.007731  0.014651  0.527694   \n",
       "12375    ZNF491  protein_coding               -0.030574  0.046404 -0.658870   \n",
       "12396    ZNF554  protein_coding               -0.002584  0.013772 -0.187662   \n",
       "12397    ZNF555  protein_coding                0.007938  0.027464  0.289027   \n",
       "12398    ZNF556  protein_coding               -0.030157  0.013188 -2.286657   \n",
       "12448    ZNF669  protein_coding                0.025478  0.024384  1.044864   \n",
       "12450    ZNF674  protein_coding               -0.036204  0.017621 -2.054654   \n",
       "12476     ZNF69  protein_coding               -0.017559  0.019841 -0.884986   \n",
       "12488   ZNF705A  protein_coding                0.072379  0.060989  1.186764   \n",
       "12502    ZNF749  protein_coding               -0.027546  0.034746 -0.792804   \n",
       "12504    ZNF763  protein_coding                0.030477  0.034118  0.893285   \n",
       "12549    ZNF891  protein_coding               -0.042091  0.008616 -4.885416   \n",
       "\n",
       "           Chisq    Pvalue  CalledSignificant Chromosome.scaffold.name  \\\n",
       "5320    5.039599  0.024774                  0                        X   \n",
       "7924    1.498510  0.220901                  0                        5   \n",
       "12205   5.177247  0.022885                  0                        1   \n",
       "12225   4.111582  0.042591                  0                       19   \n",
       "12280   2.870625  0.090210                  0                       20   \n",
       "12361   6.044458  0.013950                  0                       19   \n",
       "12362   0.277971  0.598034                  0                       19   \n",
       "12375   0.432921  0.510559                  0                       19   \n",
       "12396   0.035174  0.851231                  0                       19   \n",
       "12397   0.083491  0.772621                  0                       19   \n",
       "12398   5.003952  0.025290                  0                       19   \n",
       "12448   1.084081  0.297786                  0                        1   \n",
       "12450   4.112669  0.042563                  0                        X   \n",
       "12476   0.779343  0.377342                  0                       19   \n",
       "12488   1.395520  0.237475                  0                       12   \n",
       "12502   0.626032  0.428815                  0                       19   \n",
       "12504   0.793689  0.372987                  0                       19   \n",
       "12549  20.607684  0.000006                  0                       12   \n",
       "\n",
       "      MGI.symbol Chromosome.scaffold.name.1  Gene.start..bp.  Gene.end..bp.  \n",
       "5320       Zfp78                          7          6363280        6382605  \n",
       "7924       Zfp78                          7          6363280        6382605  \n",
       "12205      Zfp78                          7          6363280        6382605  \n",
       "12225      Zfp78                          7          6363280        6382605  \n",
       "12280      Zfp78                          7          6363280        6382605  \n",
       "12361      Zfp78                          7          6363280        6382605  \n",
       "12362      Zfp78                          7          6363280        6382605  \n",
       "12375      Zfp78                          7          6363280        6382605  \n",
       "12396      Zfp78                          7          6363280        6382605  \n",
       "12397      Zfp78                          7          6363280        6382605  \n",
       "12398      Zfp78                          7          6363280        6382605  \n",
       "12448      Zfp78                          7          6363280        6382605  \n",
       "12450      Zfp78                          7          6363280        6382605  \n",
       "12476      Zfp78                          7          6363280        6382605  \n",
       "12488      Zfp78                          7          6363280        6382605  \n",
       "12502      Zfp78                          7          6363280        6382605  \n",
       "12504      Zfp78                          7          6363280        6382605  \n",
       "12549      Zfp78                          7          6363280        6382605  "
      ]
     },
     "execution_count": 36,
     "metadata": {},
     "output_type": "execute_result"
    }
   ],
   "source": [
    "innate[innate[\"MGI.symbol\"] == \"Zfp78\"]"
   ]
  },
  {
   "cell_type": "code",
   "execution_count": 33,
   "metadata": {},
   "outputs": [
    {
     "data": {
      "text/plain": [
       "count    12086.000000\n",
       "mean         1.038805\n",
       "std          0.420886\n",
       "min          1.000000\n",
       "25%          1.000000\n",
       "50%          1.000000\n",
       "75%          1.000000\n",
       "max         18.000000\n",
       "Name: MGI.symbol, dtype: float64"
      ]
     },
     "execution_count": 33,
     "metadata": {},
     "output_type": "execute_result"
    }
   ],
   "source": [
    "innate['MGI.symbol'].value_counts().describe()"
   ]
  },
  {
   "cell_type": "code",
   "execution_count": 31,
   "metadata": {},
   "outputs": [
    {
     "data": {
      "text/html": [
       "<div>\n",
       "<style scoped>\n",
       "    .dataframe tbody tr th:only-of-type {\n",
       "        vertical-align: middle;\n",
       "    }\n",
       "\n",
       "    .dataframe tbody tr th {\n",
       "        vertical-align: top;\n",
       "    }\n",
       "\n",
       "    .dataframe thead th {\n",
       "        text-align: right;\n",
       "    }\n",
       "</style>\n",
       "<table border=\"1\" class=\"dataframe\">\n",
       "  <thead>\n",
       "    <tr style=\"text-align: right;\">\n",
       "      <th></th>\n",
       "      <th>AAACGGGCATCAGTCA</th>\n",
       "      <th>AAACGGGGTGTCCTCT</th>\n",
       "      <th>AAACGGGGTTCGTTGA</th>\n",
       "      <th>AAAGATGGTTCAACCA</th>\n",
       "      <th>AAATGCCAGCCACCTG</th>\n",
       "      <th>AAATGCCCATCGACGC</th>\n",
       "      <th>AACACGTCACTACAGT</th>\n",
       "      <th>AACCGCGTCAGCTCTC</th>\n",
       "      <th>AACGTTGTCGCGGATC</th>\n",
       "      <th>AACTCTTCAAACCCAT</th>\n",
       "      <th>...</th>\n",
       "      <th>TTCTACAGTCTACCTC</th>\n",
       "      <th>TTCTCAATCGAATGCT</th>\n",
       "      <th>TTCTTAGGTTACGCGC</th>\n",
       "      <th>TTGACTTAGTCTTGCA</th>\n",
       "      <th>TTGGCAAGTGCCTGGT</th>\n",
       "      <th>TTGGCAATCGACAGCC</th>\n",
       "      <th>TTGTAGGGTTGCTCCT</th>\n",
       "      <th>TTTCCTCAGTTCGATC</th>\n",
       "      <th>TTTGCGCCACGAAAGC</th>\n",
       "      <th>TTTGGTTCATCACAAC</th>\n",
       "    </tr>\n",
       "  </thead>\n",
       "  <tbody>\n",
       "    <tr>\n",
       "      <td>Xkr4</td>\n",
       "      <td>0.0</td>\n",
       "      <td>0.0</td>\n",
       "      <td>0.0</td>\n",
       "      <td>0.0</td>\n",
       "      <td>0.0</td>\n",
       "      <td>0.0</td>\n",
       "      <td>0.0</td>\n",
       "      <td>0.0</td>\n",
       "      <td>0.0</td>\n",
       "      <td>0.0</td>\n",
       "      <td>...</td>\n",
       "      <td>0.0</td>\n",
       "      <td>0.0</td>\n",
       "      <td>0.0</td>\n",
       "      <td>0.0</td>\n",
       "      <td>0.0</td>\n",
       "      <td>0.0</td>\n",
       "      <td>0.0</td>\n",
       "      <td>0.0</td>\n",
       "      <td>0.0</td>\n",
       "      <td>0.0</td>\n",
       "    </tr>\n",
       "    <tr>\n",
       "      <td>Gm1992</td>\n",
       "      <td>0.0</td>\n",
       "      <td>0.0</td>\n",
       "      <td>0.0</td>\n",
       "      <td>0.0</td>\n",
       "      <td>0.0</td>\n",
       "      <td>0.0</td>\n",
       "      <td>0.0</td>\n",
       "      <td>0.0</td>\n",
       "      <td>0.0</td>\n",
       "      <td>0.0</td>\n",
       "      <td>...</td>\n",
       "      <td>0.0</td>\n",
       "      <td>0.0</td>\n",
       "      <td>0.0</td>\n",
       "      <td>0.0</td>\n",
       "      <td>0.0</td>\n",
       "      <td>0.0</td>\n",
       "      <td>0.0</td>\n",
       "      <td>0.0</td>\n",
       "      <td>0.0</td>\n",
       "      <td>0.0</td>\n",
       "    </tr>\n",
       "    <tr>\n",
       "      <td>Gm37381</td>\n",
       "      <td>0.0</td>\n",
       "      <td>0.0</td>\n",
       "      <td>0.0</td>\n",
       "      <td>0.0</td>\n",
       "      <td>0.0</td>\n",
       "      <td>0.0</td>\n",
       "      <td>0.0</td>\n",
       "      <td>0.0</td>\n",
       "      <td>0.0</td>\n",
       "      <td>0.0</td>\n",
       "      <td>...</td>\n",
       "      <td>0.0</td>\n",
       "      <td>0.0</td>\n",
       "      <td>0.0</td>\n",
       "      <td>0.0</td>\n",
       "      <td>0.0</td>\n",
       "      <td>0.0</td>\n",
       "      <td>0.0</td>\n",
       "      <td>0.0</td>\n",
       "      <td>0.0</td>\n",
       "      <td>0.0</td>\n",
       "    </tr>\n",
       "    <tr>\n",
       "      <td>Rp1</td>\n",
       "      <td>0.0</td>\n",
       "      <td>0.0</td>\n",
       "      <td>0.0</td>\n",
       "      <td>0.0</td>\n",
       "      <td>0.0</td>\n",
       "      <td>0.0</td>\n",
       "      <td>0.0</td>\n",
       "      <td>0.0</td>\n",
       "      <td>0.0</td>\n",
       "      <td>0.0</td>\n",
       "      <td>...</td>\n",
       "      <td>0.0</td>\n",
       "      <td>0.0</td>\n",
       "      <td>0.0</td>\n",
       "      <td>0.0</td>\n",
       "      <td>0.0</td>\n",
       "      <td>0.0</td>\n",
       "      <td>0.0</td>\n",
       "      <td>0.0</td>\n",
       "      <td>0.0</td>\n",
       "      <td>0.0</td>\n",
       "    </tr>\n",
       "    <tr>\n",
       "      <td>Sox17</td>\n",
       "      <td>0.0</td>\n",
       "      <td>0.0</td>\n",
       "      <td>0.0</td>\n",
       "      <td>0.0</td>\n",
       "      <td>0.0</td>\n",
       "      <td>0.0</td>\n",
       "      <td>0.0</td>\n",
       "      <td>0.0</td>\n",
       "      <td>0.0</td>\n",
       "      <td>0.0</td>\n",
       "      <td>...</td>\n",
       "      <td>0.0</td>\n",
       "      <td>0.0</td>\n",
       "      <td>0.0</td>\n",
       "      <td>0.0</td>\n",
       "      <td>0.0</td>\n",
       "      <td>0.0</td>\n",
       "      <td>0.0</td>\n",
       "      <td>0.0</td>\n",
       "      <td>0.0</td>\n",
       "      <td>0.0</td>\n",
       "    </tr>\n",
       "  </tbody>\n",
       "</table>\n",
       "<p>5 rows × 478 columns</p>\n",
       "</div>"
      ],
      "text/plain": [
       "         AAACGGGCATCAGTCA  AAACGGGGTGTCCTCT  AAACGGGGTTCGTTGA  \\\n",
       "Xkr4                  0.0               0.0               0.0   \n",
       "Gm1992                0.0               0.0               0.0   \n",
       "Gm37381               0.0               0.0               0.0   \n",
       "Rp1                   0.0               0.0               0.0   \n",
       "Sox17                 0.0               0.0               0.0   \n",
       "\n",
       "         AAAGATGGTTCAACCA  AAATGCCAGCCACCTG  AAATGCCCATCGACGC  \\\n",
       "Xkr4                  0.0               0.0               0.0   \n",
       "Gm1992                0.0               0.0               0.0   \n",
       "Gm37381               0.0               0.0               0.0   \n",
       "Rp1                   0.0               0.0               0.0   \n",
       "Sox17                 0.0               0.0               0.0   \n",
       "\n",
       "         AACACGTCACTACAGT  AACCGCGTCAGCTCTC  AACGTTGTCGCGGATC  \\\n",
       "Xkr4                  0.0               0.0               0.0   \n",
       "Gm1992                0.0               0.0               0.0   \n",
       "Gm37381               0.0               0.0               0.0   \n",
       "Rp1                   0.0               0.0               0.0   \n",
       "Sox17                 0.0               0.0               0.0   \n",
       "\n",
       "         AACTCTTCAAACCCAT  ...  TTCTACAGTCTACCTC  TTCTCAATCGAATGCT  \\\n",
       "Xkr4                  0.0  ...               0.0               0.0   \n",
       "Gm1992                0.0  ...               0.0               0.0   \n",
       "Gm37381               0.0  ...               0.0               0.0   \n",
       "Rp1                   0.0  ...               0.0               0.0   \n",
       "Sox17                 0.0  ...               0.0               0.0   \n",
       "\n",
       "         TTCTTAGGTTACGCGC  TTGACTTAGTCTTGCA  TTGGCAAGTGCCTGGT  \\\n",
       "Xkr4                  0.0               0.0               0.0   \n",
       "Gm1992                0.0               0.0               0.0   \n",
       "Gm37381               0.0               0.0               0.0   \n",
       "Rp1                   0.0               0.0               0.0   \n",
       "Sox17                 0.0               0.0               0.0   \n",
       "\n",
       "         TTGGCAATCGACAGCC  TTGTAGGGTTGCTCCT  TTTCCTCAGTTCGATC  \\\n",
       "Xkr4                  0.0               0.0               0.0   \n",
       "Gm1992                0.0               0.0               0.0   \n",
       "Gm37381               0.0               0.0               0.0   \n",
       "Rp1                   0.0               0.0               0.0   \n",
       "Sox17                 0.0               0.0               0.0   \n",
       "\n",
       "         TTTGCGCCACGAAAGC  TTTGGTTCATCACAAC  \n",
       "Xkr4                  0.0               0.0  \n",
       "Gm1992                0.0               0.0  \n",
       "Gm37381               0.0               0.0  \n",
       "Rp1                   0.0               0.0  \n",
       "Sox17                 0.0               0.0  \n",
       "\n",
       "[5 rows x 478 columns]"
      ]
     },
     "execution_count": 31,
     "metadata": {},
     "output_type": "execute_result"
    }
   ],
   "source": [
    "\n",
    "iel_neg.head()"
   ]
  }
 ],
 "metadata": {
  "kernelspec": {
   "display_name": "Python 3",
   "language": "python",
   "name": "python3"
  },
  "language_info": {
   "codemirror_mode": {
    "name": "ipython",
    "version": 3
   },
   "file_extension": ".py",
   "mimetype": "text/x-python",
   "name": "python",
   "nbconvert_exporter": "python",
   "pygments_lexer": "ipython3",
   "version": "3.7.4"
  }
 },
 "nbformat": 4,
 "nbformat_minor": 2
}
